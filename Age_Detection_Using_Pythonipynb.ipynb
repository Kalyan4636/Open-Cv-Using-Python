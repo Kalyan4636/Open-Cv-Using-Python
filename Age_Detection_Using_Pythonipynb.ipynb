{
  "nbformat": 4,
  "nbformat_minor": 0,
  "metadata": {
    "colab": {
      "name": "Age Detection Using Pythonipynb",
      "provenance": [],
      "authorship_tag": "ABX9TyP1hxsUvuDq50q4iwqsoHmy",
      "include_colab_link": true
    },
    "kernelspec": {
      "name": "python3",
      "display_name": "Python 3"
    },
    "language_info": {
      "name": "python"
    }
  },
  "cells": [
    {
      "cell_type": "markdown",
      "metadata": {
        "id": "view-in-github",
        "colab_type": "text"
      },
      "source": [
        "<a href=\"https://colab.research.google.com/github/Kalyan4636/Open-Cv-Using-Python/blob/main/Age_Detection_Using_Pythonipynb.ipynb\" target=\"_parent\"><img src=\"https://colab.research.google.com/assets/colab-badge.svg\" alt=\"Open In Colab\"/></a>"
      ]
    },
    {
      "cell_type": "code",
      "execution_count": 8,
      "metadata": {
        "id": "fj9O8QH3KpOI"
      },
      "outputs": [],
      "source": [
        "import cv2 \n",
        "\n",
        "import dlib \n",
        "\n",
        "import numpy as np "
      ]
    },
    {
      "cell_type": "code",
      "source": [
        "img = cv2.imread('/child.jpg') \n",
        "\n",
        "img = cv2.resize(img, (720, 640)) \n",
        "\n",
        "frame = img.copy()"
      ],
      "metadata": {
        "id": "qx94-vf4Sb3w"
      },
      "execution_count": 11,
      "outputs": []
    },
    {
      "cell_type": "code",
      "source": [
        "# ------------ Model for Age detection --------# \n",
        "\n",
        "age_weights = \"/age_deploy.prototxt\"\n",
        "\n",
        "age_config = \"/age_net.caffemodel\"\n",
        "\n",
        "age_Net = cv2.dnn.readNet(age_config, age_weights) "
      ],
      "metadata": {
        "id": "iUyi8yUnSb-7"
      },
      "execution_count": 13,
      "outputs": []
    },
    {
      "cell_type": "code",
      "source": [
        "# Model requirements for image \n",
        "\n",
        "ageList = ['(0-2)', '(4-6)', '(8-12)', '(15-20)', \n",
        "\n",
        "           '(25-32)', '(38-43)', '(48-53)', '(60-100)'] \n",
        "\n",
        "model_mean = (78.4263377603, 87.7689143744, 114.895847746) \n"
      ],
      "metadata": {
        "id": "vERX_3_rScDx"
      },
      "execution_count": 14,
      "outputs": []
    },
    {
      "cell_type": "code",
      "source": [
        "# storing the image dimensions \n",
        "\n",
        "fH = img.shape[0] \n",
        "\n",
        "fW = img.shape[1] "
      ],
      "metadata": {
        "id": "uAWOGK2uTRVa"
      },
      "execution_count": 15,
      "outputs": []
    },
    {
      "cell_type": "code",
      "source": [
        "Boxes = []  # to store the face co-ordinates \n",
        "\n",
        "mssg = 'Face Detected'  # to display on image "
      ],
      "metadata": {
        "id": "TTk7CiroTRfa"
      },
      "execution_count": 16,
      "outputs": []
    },
    {
      "cell_type": "code",
      "source": [
        "# ------------- Model for face detection---------# \n",
        "\n",
        "face_detector = dlib.get_frontal_face_detector() "
      ],
      "metadata": {
        "id": "JMhVqxteTRv9"
      },
      "execution_count": 17,
      "outputs": []
    },
    {
      "cell_type": "code",
      "source": [
        "# converting to grayscale \n",
        "\n",
        "img_gray = cv2.cvtColor(frame, cv2.COLOR_BGR2GRAY) "
      ],
      "metadata": {
        "id": "aTBheTihThwW"
      },
      "execution_count": 18,
      "outputs": []
    },
    {
      "cell_type": "code",
      "source": [
        "# -------------detecting the faces--------------# \n",
        "\n",
        "faces = face_detector(img_gray) "
      ],
      "metadata": {
        "id": "oIkGphCXTh1n"
      },
      "execution_count": 19,
      "outputs": []
    },
    {
      "cell_type": "code",
      "source": [
        "# If no faces our detected \n",
        "\n",
        "if not faces: \n",
        "\n",
        "    mssg = 'No face detected'\n",
        "\n",
        "    cv2.putText(img, f'{mssg}', (40, 40), \n",
        "\n",
        "                cv2.FONT_HERSHEY_SIMPLEX, 2, (200), 2) \n",
        "\n",
        "    cv2.imshow('Age detected', img) \n",
        "\n",
        "    cv2.waitKey(0) \n",
        "\n",
        "  \n",
        "\n"
      ],
      "metadata": {
        "id": "Q8HBl2w9Th46"
      },
      "execution_count": 21,
      "outputs": []
    },
    {
      "cell_type": "markdown",
      "source": [
        "# --------- Bounding Face ---------# "
      ],
      "metadata": {
        "id": "2ohM_n2LVtmM"
      }
    },
    {
      "cell_type": "code",
      "source": [
        "for face in faces:\n",
        "  x = face.left()\n",
        "  y = face.top()\n",
        "  x2 = face.right()\n",
        "  y2 = face.bottom()\n"
      ],
      "metadata": {
        "id": "ikqwvro4Th7p"
      },
      "execution_count": 34,
      "outputs": []
    },
    {
      "cell_type": "code",
      "source": [
        "# Rescalling those coordinates of nour image\n",
        "\n",
        "box = [x ,y ,x2 ,y2]\n",
        "Boxes.append(box)\n",
        "cv2.rectangle(frame, (x, y), (x2, y2), (00, 200,200), 2)\n",
        "\n",
        "for box in Boxes: \n",
        "\n",
        "        face = frame[box[1]:box[3], box[0]:box[2]] \n",
        "\n"
      ],
      "metadata": {
        "id": "DG7-TjhhTiBs"
      },
      "execution_count": 37,
      "outputs": []
    },
    {
      "cell_type": "code",
      "source": [
        "# ----- Image preprocessing --------# \n",
        "\n",
        "blob = cv2.dnn.blobFromImage( \n",
        "\n",
        "            face, 1.0, (227, 227), model_mean, swapRB=False) \n"
      ],
      "metadata": {
        "id": "DewI2mLFVcag"
      },
      "execution_count": 39,
      "outputs": []
    },
    {
      "cell_type": "code",
      "source": [
        "age_Net.setInput(blob) \n",
        "\n",
        "age_preds = age_Net.forward() \n",
        "\n",
        "age = ageList[age_preds[0].argmax()] \n",
        "\n",
        "cv2.putText(frame, f'{mssg}:{age}', (box[0],  box[1] - 10), cv2.FONT_HERSHEY_SIMPLEX, 0.8, (0, 255, 255), 2, cv2.LINE_AA) \n",
        "\n",
        "# cv2.imshow(\"Detecting Age\", frame) \n",
        "\n",
        "# cv2.waitKey(0) \n",
        "\n"
      ],
      "metadata": {
        "colab": {
          "base_uri": "https://localhost:8080/"
        },
        "id": "u19PL-11VcrZ",
        "outputId": "45318ada-8c6d-4aad-eb29-735021a60c20"
      },
      "execution_count": 60,
      "outputs": [
        {
          "output_type": "execute_result",
          "data": {
            "text/plain": [
              "array([[[19,  7,  7],\n",
              "        [18,  6,  6],\n",
              "        [18,  6,  6],\n",
              "        ...,\n",
              "        [21, 16, 13],\n",
              "        [23, 18, 15],\n",
              "        [24, 17, 14]],\n",
              "\n",
              "       [[18,  6,  6],\n",
              "        [19,  7,  7],\n",
              "        [18,  6,  6],\n",
              "        ...,\n",
              "        [22, 17, 14],\n",
              "        [23, 18, 15],\n",
              "        [22, 17, 14]],\n",
              "\n",
              "       [[18,  6,  6],\n",
              "        [19,  7,  7],\n",
              "        [18,  6,  6],\n",
              "        ...,\n",
              "        [22, 17, 14],\n",
              "        [23, 18, 15],\n",
              "        [23, 17, 13]],\n",
              "\n",
              "       ...,\n",
              "\n",
              "       [[27, 18,  8],\n",
              "        [27, 18,  8],\n",
              "        [27, 18,  8],\n",
              "        ...,\n",
              "        [33, 27, 22],\n",
              "        [33, 27, 22],\n",
              "        [33, 27, 22]],\n",
              "\n",
              "       [[27, 18,  8],\n",
              "        [27, 18,  8],\n",
              "        [27, 18,  8],\n",
              "        ...,\n",
              "        [32, 26, 21],\n",
              "        [32, 26, 21],\n",
              "        [34, 28, 23]],\n",
              "\n",
              "       [[27, 18,  8],\n",
              "        [28, 19,  9],\n",
              "        [27, 18,  8],\n",
              "        ...,\n",
              "        [31, 25, 20],\n",
              "        [32, 25, 21],\n",
              "        [33, 27, 22]]], dtype=uint8)"
            ]
          },
          "metadata": {},
          "execution_count": 60
        }
      ]
    },
    {
      "cell_type": "code",
      "source": [
        ""
      ],
      "metadata": {
        "id": "xytROwyJVcua"
      },
      "execution_count": null,
      "outputs": []
    }
  ]
}